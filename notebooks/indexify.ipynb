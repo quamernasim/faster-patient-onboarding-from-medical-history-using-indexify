{
 "cells": [
  {
   "cell_type": "code",
   "execution_count": null,
   "metadata": {},
   "outputs": [],
   "source": [
    "from indexify import IndexifyClient, ExtractionGraph"
   ]
  },
  {
   "cell_type": "code",
   "execution_count": null,
   "metadata": {},
   "outputs": [],
   "source": [
    "client = IndexifyClient()"
   ]
  },
  {
   "cell_type": "code",
   "execution_count": null,
   "metadata": {},
   "outputs": [],
   "source": [
    "extraction_graph_spec = \"\"\"\n",
    "name: 'pdflearner'\n",
    "extraction_policies:\n",
    "   - extractor: 'tensorlake/paddleocr_extractor'\n",
    "     name: 'pdf_to_text'\n",
    "\"\"\""
   ]
  },
  {
   "cell_type": "code",
   "execution_count": null,
   "metadata": {},
   "outputs": [],
   "source": [
    "extraction_graph = ExtractionGraph.from_yaml(extraction_graph_spec)\n",
    "# client.create_extraction_graph(extraction_graph)"
   ]
  },
  {
   "cell_type": "code",
   "execution_count": null,
   "metadata": {},
   "outputs": [],
   "source": [
    "content_id = client.upload_file(\"pdflearner\", \"/home/deepkapha/project/quamer/faster-patient-onboarding-from-medical-history-using-indexify/data/BalanceSheet.pdf\")"
   ]
  },
  {
   "cell_type": "code",
   "execution_count": null,
   "metadata": {},
   "outputs": [],
   "source": [
    "client.wait_for_extraction(content_id)"
   ]
  },
  {
   "cell_type": "code",
   "execution_count": null,
   "metadata": {},
   "outputs": [],
   "source": [
    "extracted_content = client.get_extracted_content(ingested_content_id=content_id, graph_name=\"pdflearner\", policy_name=\"pdf_to_text\")"
   ]
  },
  {
   "cell_type": "code",
   "execution_count": null,
   "metadata": {},
   "outputs": [],
   "source": [
    "extracted_content"
   ]
  },
  {
   "cell_type": "code",
   "execution_count": null,
   "metadata": {},
   "outputs": [],
   "source": [
    "schema = {\n",
    "'properties': {\n",
    "    'name': {'title': 'Name', 'type': 'string'},\n",
    "    'dob': {'title': 'Date of Birth', 'type': 'string'},\n",
    "    'problem_description': {'title': 'Description of Problem or Complaints', 'type': 'string'},\n",
    "    'accident_type': {'title': 'Is the present problem due to an injury?', 'type': 'string'},\n",
    "    'accident_reported': {'title': 'Has the accident been reported?', 'type': 'string'},\n",
    "    'family_history': {'title': 'Family History', 'type': 'string'},\n",
    "    'job_description': {'title': 'Job Description', 'type': 'string'},\n",
    "    'genral_symptoms': {'title': 'General Symptoms', 'type': 'string'},\n",
    "    'muscles_and_joints_symptoms': {'title': 'Muscles and Joints Symptoms', 'type': 'string'},\n",
    "    'cardiovascular_symptoms': {'title': 'Cardiovascular Symptoms', 'type': 'string'},\n",
    "},\n",
    "'required': ['name', 'dob', 'problem_description', 'accident_type', 'accident_reported', 'family_history', 'job_description', 'genral_symptoms', 'muscles_and_joints_symptoms', 'cardiovascular_symptoms'],\n",
    "'title': 'User',\n",
    "'type': 'object',\n",
    "}\n",
    "\n",
    "\n",
    "\n",
    "extraction_graph_spec = f\"\"\"\n",
    "name: 'invoice-learner2'\n",
    "extraction_policies:\n",
    "  - extractor: 'tensorlake/paddleocr_extractor'\n",
    "    name: 'pdf-extraction'\n",
    "  - extractor: 'tensorlake/schema'\n",
    "    name: 'text_to_json'\n",
    "    input_params:\n",
    "      service: 'openai'\n",
    "      key: ''\n",
    "      schema_config : {schema}\n",
    "      additional_messages: 'Extract information in JSON according to this schema and return only the output. You need to provide the schema as given in the context.'\n",
    "    content_source: 'pdf-extraction'\n",
    "\"\"\""
   ]
  },
  {
   "cell_type": "code",
   "execution_count": null,
   "metadata": {},
   "outputs": [],
   "source": [
    "# from pydantic import BaseModel\n",
    "# class Invoice(BaseModel):\n",
    "#     year: int\n",
    "#     captial_deposit: int\n",
    "#     total_liability: int\n",
    "#     total_assests: int\n",
    "#     ratio_of_assests_by_liabilities: float\n",
    "#     bills_collection: int\n",
    "#     increase_in_deposites_from_2021_to_2022: float\n",
    "\n",
    "# schema = Invoice.model_json_schema()\n",
    "# schema"
   ]
  },
  {
   "cell_type": "code",
   "execution_count": null,
   "metadata": {},
   "outputs": [],
   "source": [
    "from indexify import IndexifyClient, ExtractionGraph\n",
    "client = IndexifyClient()\n",
    "\n",
    "extraction_graph = ExtractionGraph.from_yaml(extraction_graph_spec)\n",
    "# client.create_extraction_graph(extraction_graph)\n",
    "content_id = client.upload_file(\"invoice-learner2\", \"/home/deepkapha/project/quamer/faster-patient-onboarding-from-medical-history-using-indexify/data/6000267600123615133.pdf\")\n",
    "client.wait_for_extraction(content_id)"
   ]
  },
  {
   "cell_type": "code",
   "execution_count": null,
   "metadata": {},
   "outputs": [],
   "source": [
    "extracted_content = client.get_extracted_content(ingested_content_id=content_id, graph_name=\"invoice-learner2\", policy_name=\"text_to_json\")"
   ]
  },
  {
   "cell_type": "code",
   "execution_count": null,
   "metadata": {},
   "outputs": [],
   "source": [
    "content_id"
   ]
  },
  {
   "cell_type": "code",
   "execution_count": null,
   "metadata": {},
   "outputs": [],
   "source": [
    "extracted_content"
   ]
  },
  {
   "cell_type": "code",
   "execution_count": null,
   "metadata": {},
   "outputs": [],
   "source": [
    "llm_content = next(content.data.decode(\"utf-8\") for content in extracted_content if content.mime_type == \"text/plain\")\n",
    "llm_content"
   ]
  },
  {
   "cell_type": "code",
   "execution_count": null,
   "metadata": {},
   "outputs": [],
   "source": [
    "print(extracted_content)"
   ]
  },
  {
   "cell_type": "code",
   "execution_count": null,
   "metadata": {},
   "outputs": [],
   "source": [
    "from indexify_extractor_sdk import Content"
   ]
  },
  {
   "cell_type": "code",
   "execution_count": null,
   "metadata": {},
   "outputs": [],
   "source": [
    "schema = {'properties': {'invoice_number': {'title': 'Invoice Number', 'type': 'string'}, 'date': {'title': 'Date', 'type': 'string'}, 'account_number': {'title': 'Account Number', 'type': 'string'}, 'owner': {'title': 'Owner', 'type': 'string'}, 'address': {'title': 'Address', 'type': 'string'}, 'last_month_balance': {'title': 'Last Month Balance', 'type': 'string'}, 'current_amount_due': {'title': 'Current Amount Due', 'type': 'string'}, 'registration_key': {'title': 'Registration Key', 'type': 'string'}, 'due_date': {'title': 'Due Date', 'type': 'string'}}, 'required': ['invoice_number', 'date', 'account_number', 'owner', 'address', 'last_month_balance', 'current_amount_due', 'registration_key', 'due_date'], 'title': 'User', 'type': 'object'}\n",
    "\n",
    "data = Content.from_text('Axis\\nSTATEMENTInvoice No. 20240501-336593\\nDate: 4/19/2024\\nAccount Number:\\nOwner:\\nProperty:922000203826\\nJohn Doe\\n200 Park Avenue, Manhattan\\nJohn Doe\\n200 Park Avenue Manhattan\\nNew York 10166SUMMARY OF ACCOUNT\\nLast Month Balance:\\nCurrent Amount Due:$653.03\\n$653.03\\nAccount details on back.\\nProfessionally\\nprepared by:\\nSTATEMENT MESSAGE\\nWelcome to Action Property Management! We are excited to be\\nserving your community. Our Community Care team is more than\\nhappy to assist you with any billing questions you may have. For\\ncontact options, please visit www.actionlife.com/contact. Visit the\\nAction Property Management web page at: www.actionlife.com.BILLING QUESTIONS\\nScan the QR code to\\ncontact our\\nCommunity Care\\nteam.\\nactionlife.com/contact\\nCommunityCare@actionlife.com\\nRegister your Resident\\nPortal account now!\\nRegistration Key/ID:\\nFLOWR2U\\nresident.actionlife.com\\nTo learn more about issues facing HOAs, say \"Hey Siri, search the web for The Uncommon Area by Action Property Management.\"\\nMake checks payable to:\\nAxisAccount Number: 922000203826\\nOwner: John Doe\\nPLEASE REMIT PAYMENT TO:\\n** AUTOPAY SCHEDULED **\\n** NO REMITTANCE NECESSARY **CURRENT AMOUNT DUE\\n$653.03\\nDUE DATE\\n5/1/2024\\n0049 00008330 0000922000203826 7 00065303 00000000 9')\n"
   ]
  },
  {
   "cell_type": "code",
   "execution_count": null,
   "metadata": {},
   "outputs": [],
   "source": []
  },
  {
   "cell_type": "code",
   "execution_count": null,
   "metadata": {},
   "outputs": [],
   "source": [
    "import base64\n",
    "import io\n",
    "import mimetypes\n",
    "import os\n",
    "from typing import Any, Dict, List, Optional, Union\n",
    "\n",
    "from indexify_extractor_sdk import Content, Extractor, Feature\n",
    "from openai import OpenAI\n",
    "from pdf2image import convert_from_bytes\n",
    "from pydantic import BaseModel, Field\n",
    "\n",
    "\n",
    "class SchemaExtractorConfig(BaseModel):\n",
    "    model: Optional[str] = Field(default=\"gpt-4o-2024-08-06\")\n",
    "    api_key: Optional[str] = Field(default=None)\n",
    "    system_prompt: str = Field(default=\"Extract the information.\")\n",
    "    user_prompt: Optional[str] = Field(default=None)\n",
    "    response_format: Optional[Dict[str, Any]] = Field(\n",
    "        default={\n",
    "            \"properties\": {\"name\": {\"title\": \"Name\", \"type\": \"string\"}},\n",
    "            \"required\": [\"name\"],\n",
    "            \"title\": \"Event\",\n",
    "            \"type\": \"object\",\n",
    "            \"additionalProperties\": False,\n",
    "        }\n",
    "    )\n",
    "\n",
    "\n",
    "class SchemaExtractor(Extractor):\n",
    "    name = \"tensorlake/schema\"\n",
    "    description = \"An extractor that let's you extract JSON from schemas.\"\n",
    "    system_dependencies = []\n",
    "    input_mime_types = [\n",
    "        \"text/plain\",\n",
    "        \"application/json\",\n",
    "        \"application/pdf\",\n",
    "        \"image/jpeg\",\n",
    "        \"image/png\",\n",
    "    ]\n",
    "\n",
    "    def __init__(self):\n",
    "        super(SchemaExtractor, self).__init__()\n",
    "\n",
    "    def extract(\n",
    "        self, content: Content, params: SchemaExtractorConfig\n",
    "    ) -> List[Union[Feature, Content]]:\n",
    "        contents = []\n",
    "        model_name = params.model\n",
    "        key = params.api_key\n",
    "        prompt = params.system_prompt\n",
    "        query = params.user_prompt\n",
    "        response_format = params.response_format\n",
    "\n",
    "        if content.content_type == \"application/pdf\":\n",
    "            print(\"1\")\n",
    "            images = convert_from_bytes(content.data)\n",
    "\n",
    "            all_responses = []\n",
    "            for image in images:\n",
    "                img_byte_arr = io.BytesIO()\n",
    "                image.save(img_byte_arr, format=\"JPEG\")\n",
    "                img_byte_arr = img_byte_arr.getvalue()\n",
    "                response = self._process_image(\n",
    "                    img_byte_arr, model_name, key, prompt, query, response_format\n",
    "                )\n",
    "                all_responses.append(response)\n",
    "\n",
    "            response_content = \"\\n\\n\".join(all_responses)\n",
    "\n",
    "        elif content.content_type in [\"image/jpeg\", \"image/png\"]:\n",
    "            print(\"2\")\n",
    "            response_content = self._process_image(\n",
    "                content.data, model_name, key, prompt, query, response_format\n",
    "            )\n",
    "\n",
    "        else:\n",
    "            print(\"3\")\n",
    "            text = content.data.decode(\"utf-8\")\n",
    "            if query is None:\n",
    "                query = text\n",
    "            response_content = self._process_text(\n",
    "                model_name, key, prompt, query, response_format\n",
    "            )\n",
    "\n",
    "        contents.append(Content.from_text(response_content))\n",
    "        return contents\n",
    "\n",
    "    def _process_text(self, model_name, key, prompt, query, response_format):\n",
    "        client = self._get_client(key)\n",
    "\n",
    "        messages_content = [\n",
    "            {\"role\": \"system\", \"content\": prompt},\n",
    "            {\"role\": \"user\", \"content\": query},\n",
    "        ]\n",
    "\n",
    "        try:\n",
    "            response = client.beta.chat.completions.parse(\n",
    "                model=model_name,\n",
    "                messages=messages_content,\n",
    "                response_format={\n",
    "                    \"type\": \"json_schema\",\n",
    "                    \"json_schema\": {\n",
    "                        \"name\": \"schema_response\",  # Add a required name\n",
    "                        \"strict\": True,\n",
    "                        \"schema\": response_format,\n",
    "                    },\n",
    "                },\n",
    "            )\n",
    "            return response.choices[0].message.content\n",
    "        except Exception as e:\n",
    "            print(f\"Unable to process text: {str(e)}\")\n",
    "            raise e\n",
    "\n",
    "    def _get_client(self, key):\n",
    "        if (\"OPENAI_API_KEY\" not in os.environ) and (key is None):\n",
    "            raise ValueError(\n",
    "                \"The OPENAI_API_KEY environment variable is not present and no API key was provided.\"\n",
    "            )\n",
    "        if (\"OPENAI_API_KEY\" in os.environ) and (key is None):\n",
    "            return OpenAI(api_key=os.environ[\"OPENAI_API_KEY\"])\n",
    "        return OpenAI(api_key=key)\n",
    "\n",
    "    def sample_input(self) -> Content:\n",
    "        return Content.from_text(\"Alice and Bob are going to a science fair on Friday.\")"
   ]
  },
  {
   "cell_type": "code",
   "execution_count": null,
   "metadata": {},
   "outputs": [],
   "source": []
  },
  {
   "cell_type": "code",
   "execution_count": null,
   "metadata": {},
   "outputs": [],
   "source": [
    "import os\n",
    "\n",
    "os.environ[\"OPENAI_API_KEY\"] = \" \""
   ]
  },
  {
   "cell_type": "code",
   "execution_count": null,
   "metadata": {},
   "outputs": [],
   "source": [
    "\n",
    "input_params = SchemaExtractorConfig(service=\"openai\", schema=schema)\n",
    "\n",
    "extractor = SchemaExtractor()\n",
    "results = extractor.extract(data, params=input_params)"
   ]
  },
  {
   "cell_type": "code",
   "execution_count": null,
   "metadata": {},
   "outputs": [],
   "source": [
    "results[0]"
   ]
  },
  {
   "cell_type": "code",
   "execution_count": null,
   "metadata": {},
   "outputs": [],
   "source": []
  },
  {
   "cell_type": "code",
   "execution_count": null,
   "metadata": {},
   "outputs": [],
   "source": []
  },
  {
   "cell_type": "code",
   "execution_count": null,
   "metadata": {},
   "outputs": [],
   "source": []
  },
  {
   "cell_type": "code",
   "execution_count": null,
   "metadata": {},
   "outputs": [],
   "source": []
  },
  {
   "cell_type": "code",
   "execution_count": null,
   "metadata": {},
   "outputs": [],
   "source": [
    "from indexify import IndexifyClient, ExtractionGraph"
   ]
  },
  {
   "cell_type": "code",
   "execution_count": null,
   "metadata": {},
   "outputs": [],
   "source": [
    "from indexify_extractor_sdk import Content\n",
    "from pydantic import BaseModel\n",
    "\n",
    "# PDF extractor initialization\n",
    "# pdfextractor, pdfconfig_cls = load_extractor(\"indexify_extractors.pdfextractor.pdf_extractor:PDFExtractor\")\n",
    "\n",
    "# extract content from PDF file\n",
    "\n",
    "# config = pdfconfig_cls()\n",
    "\n",
    "# pdf_result = pdfextractor.extract(content, config)\n",
    "\n",
    "# # text content present in PDF\n",
    "# text_content = next(content.data.decode('utf-8') for content in pdf_result if content.content_type == 'text/plain')"
   ]
  },
  {
   "cell_type": "code",
   "execution_count": null,
   "metadata": {},
   "outputs": [],
   "source": [
    "schema = {\n",
    "'properties': {\n",
    "    'money': {'title': 'Money', 'type': 'string'},\n",
    "},\n",
    "'required': ['year',],\n",
    "'title': 'User',\n",
    "'type': 'object',\n",
    "\"additionalProperties\": False,\n",
    "}\n",
    "\n",
    "extraction_graph_spec = f\"\"\"\n",
    "name: 'pdf_schema_extractor'\n",
    "extraction_policies:\n",
    "  - extractor: 'tensorlake/paddleocr_extractor'\n",
    "    name: 'pdf_to_text'\n",
    "  - extractor: 'tensorlake/schema'\n",
    "    name: 'text_to_schema'\n",
    "    input_params:\n",
    "      service: 'openai'\n",
    "      model_name: 'gpt-3.5-turbo'\n",
    "      key: ''\n",
    "      schema_config: {schema}\n",
    "      example: {schema}\n",
    "      data: \"Balance SheetAs at March 31, 2022 ` in '000 Schedule As at March 31, 2022 As at March 31, 2021 CAPITAL AND LIABILITIES Capital 1 5,545,541 5,512,776 Reserves and surplus 2 2,395,383,846 2,031,695,513 Deposits 3 15,592,174,400 13,350,602,208 Borrowings 4 1,848,172,073 1,354,873,236 Other liabiliti\"\n",
    "      additional_messages: 'Extract information in JSON according to this schema and return only the output.'\n",
    "    content_source: 'pdf_to_text'\n",
    "\"\"\"\n",
    "client = IndexifyClient()\n",
    "extraction_graph = ExtractionGraph.from_yaml(extraction_graph_spec)\n",
    "# result = client.create_extraction_graph(extraction_graph)\n",
    "content_id = client.upload_file(\"pdf_schema_extractor\", \"/home/deepkapha/project/quamer/faster-patient-onboarding-from-medical-history-using-indexify/data/BalanceSheet.pdf\")\n"
   ]
  },
  {
   "cell_type": "code",
   "execution_count": null,
   "metadata": {},
   "outputs": [],
   "source": [
    "extraction_graph.to_dict()"
   ]
  },
  {
   "cell_type": "code",
   "execution_count": null,
   "metadata": {},
   "outputs": [],
   "source": [
    "client.wait_for_extraction(content_id)"
   ]
  },
  {
   "cell_type": "code",
   "execution_count": null,
   "metadata": {},
   "outputs": [],
   "source": [
    "extracted_content = client.get_extracted_content(ingested_content_id=content_id, graph_name=\"pdf_schema_extractor\", policy_name=\"text_to_schema\")\n",
    "extracted_content"
   ]
  },
  {
   "cell_type": "code",
   "execution_count": null,
   "metadata": {},
   "outputs": [],
   "source": []
  },
  {
   "cell_type": "code",
   "execution_count": null,
   "metadata": {},
   "outputs": [],
   "source": []
  }
 ],
 "metadata": {
  "kernelspec": {
   "display_name": "venv",
   "language": "python",
   "name": "python3"
  },
  "language_info": {
   "codemirror_mode": {
    "name": "ipython",
    "version": 3
   },
   "file_extension": ".py",
   "mimetype": "text/x-python",
   "name": "python",
   "nbconvert_exporter": "python",
   "pygments_lexer": "ipython3",
   "version": "3.11.5"
  }
 },
 "nbformat": 4,
 "nbformat_minor": 2
}
