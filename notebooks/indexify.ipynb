{
 "cells": [
  {
   "cell_type": "code",
   "execution_count": null,
   "metadata": {},
   "outputs": [],
   "source": [
    "from indexify import IndexifyClient, ExtractionGraph"
   ]
  },
  {
   "cell_type": "code",
   "execution_count": null,
   "metadata": {},
   "outputs": [],
   "source": [
    "client = IndexifyClient()"
   ]
  },
  {
   "cell_type": "code",
   "execution_count": null,
   "metadata": {},
   "outputs": [],
   "source": [
    "extraction_graph_spec = \"\"\"\n",
    "name: 'pdflearner2'\n",
    "extraction_policies:\n",
    "   - extractor: 'tensorlake/paddleocr_extractor'\n",
    "     name: 'pdf_to_text'\n",
    "\"\"\""
   ]
  },
  {
   "cell_type": "code",
   "execution_count": null,
   "metadata": {},
   "outputs": [],
   "source": [
    "extraction_graph = ExtractionGraph.from_yaml(extraction_graph_spec)\n",
    "client.create_extraction_graph(extraction_graph)"
   ]
  },
  {
   "cell_type": "code",
   "execution_count": null,
   "metadata": {},
   "outputs": [],
   "source": [
    "content_id = client.upload_file(\"pdflearner\", \"/home/quamer23nasim38/faster-patient-onboarding-from-medical-history-using-indexify/data/6000267600123615133.pdf\")"
   ]
  },
  {
   "cell_type": "code",
   "execution_count": null,
   "metadata": {},
   "outputs": [],
   "source": [
    "client.wait_for_extraction(content_id)"
   ]
  },
  {
   "cell_type": "code",
   "execution_count": null,
   "metadata": {},
   "outputs": [],
   "source": [
    "extracted_content = client.get_extracted_content(ingested_content_id=content_id, graph_name=\"pdflearner\", policy_name=\"pdf_to_text\")"
   ]
  },
  {
   "cell_type": "code",
   "execution_count": null,
   "metadata": {},
   "outputs": [],
   "source": [
    "extracted_content"
   ]
  },
  {
   "cell_type": "code",
   "execution_count": null,
   "metadata": {},
   "outputs": [],
   "source": []
  },
  {
   "cell_type": "code",
   "execution_count": null,
   "metadata": {},
   "outputs": [],
   "source": [
    "schema = {\n",
    "    'properties': {\n",
    "        'invoice_number': {'title': 'Invoice Number', 'type': 'string'},\n",
    "        'date': {'title': 'Date', 'type': 'string'},\n",
    "        'account_number': {'title': 'Account Number', 'type': 'string'},\n",
    "        'owner': {'title': 'Owner', 'type': 'string'},\n",
    "        'address': {'title': 'Address', 'type': 'string'},\n",
    "        'last_month_balance': {'title': 'Last Month Balance', 'type': 'string'},\n",
    "        'current_amount_due': {'title': 'Current Amount Due', 'type': 'string'},\n",
    "        'registration_key': {'title': 'Registration Key', 'type': 'string'},\n",
    "        'due_date': {'title': 'Due Date', 'type': 'string'}\n",
    "    },\n",
    "    'required': ['invoice_number', 'date', 'account_number', 'owner', 'address', 'last_month_balance', 'current_amount_due', 'registration_key', 'due_date'],\n",
    "    'title': 'User',\n",
    "    'type': 'object'\n",
    "}\n",
    "\n",
    "examples = str([\n",
    "    {\n",
    "        \"type\": \"object\",\n",
    "        \"properties\": {\n",
    "            \"employer_name\": {\"type\": \"string\", \"title\": \"Employer Name\"},\n",
    "            \"employee_name\": {\"type\": \"string\", \"title\": \"Employee Name\"},\n",
    "            \"wages\": {\"type\": \"number\", \"title\": \"Wages\"},\n",
    "            \"federal_tax_withheld\": {\"type\": \"number\", \"title\": \"Federal Tax Withheld\"},\n",
    "            \"state_wages\": {\"type\": \"number\", \"title\": \"State Wages\"},\n",
    "            \"state_tax\": {\"type\": \"number\", \"title\": \"State Tax\"}\n",
    "            },\n",
    "        \"required\": [\"employer_name\", \"employee_name\", \"wages\", \"federal_tax_withheld\", \"state_wages\", \"state_tax\"]\n",
    "    },\n",
    "    {\n",
    "        \"type\": \"object\",\n",
    "        \"properties\": {\n",
    "            \"booking_reference\": {\"type\": \"string\", \"title\": \"Booking Reference\"},\n",
    "            \"passenger_name\": {\"type\": \"string\", \"title\": \"Passenger Name\"},\n",
    "            \"flight_number\": {\"type\": \"string\", \"title\": \"Flight Number\"},\n",
    "            \"departure_airport\": {\"type\": \"string\", \"title\": \"Departure Airport\"},\n",
    "            \"arrival_airport\": {\"type\": \"string\", \"title\": \"Arrival Airport\"},\n",
    "            \"departure_time\": {\"type\": \"string\", \"title\": \"Departure Time\"},\n",
    "            \"arrival_time\": {\"type\": \"string\", \"title\": \"Arrival Time\"}\n",
    "            },\n",
    "        \"required\": [\"booking_reference\", \"passenger_name\", \"flight_number\",\"departure_airport\", \"arrival_airport\", \"departure_time\", \"arrival_time\"]\n",
    "    }\n",
    "])\n",
    "\n",
    "\n",
    "\n",
    "extraction_graph_spec = \"\"\"\n",
    "name: 'invoice-learner'\n",
    "extraction_policies:\n",
    "  - extractor: 'tensorlake/paddleocr_extractor'\n",
    "    name: 'pdf-extraction'\n",
    "  - extractor: 'schema_extractor'\n",
    "    name: 'text_to_json'\n",
    "    input_params:\n",
    "      service: 'openai'\n",
    "      example_text: {examples}\n",
    "content_source: 'invoice-learner'\n",
    "\"\"\""
   ]
  },
  {
   "cell_type": "code",
   "execution_count": null,
   "metadata": {},
   "outputs": [],
   "source": [
    "from indexify import IndexifyClient, ExtractionGraph\n",
    "client = IndexifyClient()\n",
    "\n",
    "extraction_graph = ExtractionGraph.from_yaml(extraction_graph_spec)\n",
    "client.create_extraction_graph(extraction_graph)\n",
    "content_id = client.upload_file(\"invoice-learner\", \"/home/quamer23nasim38/faster-patient-onboarding-from-medical-history-using-indexify/data/6000267600123615133.pdf\")\n",
    "print(content_id)\n",
    "client.wait_for_extraction(content_id)\n",
    "extracted_content = client.get_extracted_content(content_id=content_id, graph_name=\"invoice-learner\", policy_name=\"text_to_json\")\n",
    "print(extracted_content)"
   ]
  },
  {
   "cell_type": "code",
   "execution_count": null,
   "metadata": {},
   "outputs": [],
   "source": []
  },
  {
   "cell_type": "code",
   "execution_count": null,
   "metadata": {},
   "outputs": [],
   "source": []
  },
  {
   "cell_type": "code",
   "execution_count": null,
   "metadata": {},
   "outputs": [],
   "source": []
  },
  {
   "cell_type": "code",
   "execution_count": null,
   "metadata": {},
   "outputs": [],
   "source": []
  },
  {
   "cell_type": "code",
   "execution_count": null,
   "metadata": {},
   "outputs": [],
   "source": []
  }
 ],
 "metadata": {
  "kernelspec": {
   "display_name": "venv",
   "language": "python",
   "name": "python3"
  },
  "language_info": {
   "codemirror_mode": {
    "name": "ipython",
    "version": 3
   },
   "file_extension": ".py",
   "mimetype": "text/x-python",
   "name": "python",
   "nbconvert_exporter": "python",
   "pygments_lexer": "ipython3",
   "version": "3.9.2"
  }
 },
 "nbformat": 4,
 "nbformat_minor": 2
}
