{
 "cells": [
  {
   "cell_type": "code",
   "execution_count": 1,
   "metadata": {},
   "outputs": [],
   "source": [
    "from indexify import IndexifyClient, ExtractionGraph"
   ]
  },
  {
   "cell_type": "code",
   "execution_count": 2,
   "metadata": {},
   "outputs": [],
   "source": [
    "client = IndexifyClient()"
   ]
  },
  {
   "cell_type": "code",
   "execution_count": 3,
   "metadata": {},
   "outputs": [],
   "source": [
    "extraction_graph_spec = \"\"\"\n",
    "name: 'pdflearner'\n",
    "extraction_policies:\n",
    "   - extractor: 'tensorlake/paddleocr_extractor'\n",
    "     name: 'pdf_to_text'\n",
    "\"\"\""
   ]
  },
  {
   "cell_type": "code",
   "execution_count": 4,
   "metadata": {},
   "outputs": [],
   "source": [
    "extraction_graph = ExtractionGraph.from_yaml(extraction_graph_spec)\n",
    "# client.create_extraction_graph(extraction_graph)"
   ]
  },
  {
   "cell_type": "code",
   "execution_count": 5,
   "metadata": {},
   "outputs": [],
   "source": [
    "content_id = client.upload_file(\"pdflearner\", \"/home/quamer23nasim38/faster-patient-onboarding-from-medical-history-using-indexify/data/6000267600123615133.pdf\")"
   ]
  },
  {
   "cell_type": "code",
   "execution_count": 6,
   "metadata": {},
   "outputs": [
    {
     "name": "stdout",
     "output_type": "stream",
     "text": [
      "Waiting for extraction to complete for content id:  b9a151d10a300f4a\n",
      "Extraction completed for content id:  b9a151d10a300f4a\n"
     ]
    }
   ],
   "source": [
    "client.wait_for_extraction(content_id)"
   ]
  },
  {
   "cell_type": "code",
   "execution_count": 7,
   "metadata": {},
   "outputs": [],
   "source": [
    "extracted_content = client.get_extracted_content(ingested_content_id=content_id, graph_name=\"pdflearner\", policy_name=\"pdf_to_text\")"
   ]
  },
  {
   "cell_type": "code",
   "execution_count": 8,
   "metadata": {},
   "outputs": [
    {
     "data": {
      "text/plain": [
       "[{'id': 'a0129d4fa0dd8f9',\n",
       "  'mime_type': 'text/plain',\n",
       "  'content': b\"21/8/2024\\nPersonal Medical History Template.\\nDescription of problem or complaints:.\\nDHBSFG DIKDAY\\nhead ache\\nBirth Date\\nfever\\n body pain\\n10/8/2014\\nvomiting\\nHave you previously been treated for this.\\ncondition? If yes, by whom?.\\nno\\nAre your present problems due to an injury? if.\\nyes, please select from the list..\\n Personal Injury\\nIf this is an accident has it been reported? If\\nyes, to whom?.\\nAuto Carrier\\nAre you now or have you ever been disabled?.\\nNo\\n! Jotform\\nCreate your own automated PDFs with Jotform PDF Editor- It's free\\nFamily History\\nHabits\\nDiabetes\\nHeart Disease\\nCoffee, # of cups per day.\\n0\\nFather\\n Mother\\nSmoking, # of packs per day.\\nKidney Disease\\n0.5\\nMother\\nAlcohol, # of drinks per week.\\n0\\nQuestions about Job.\\nJob description:\\nsoftwere developer\\nHow many hours do you sit per day?\\n8\\nHow many hours do you stand per day?.\\n2\\nPlease mark if you ever had any of the following:.\\nAppendicitis\\nChicken Pox\\n2\\n! Jotform\\nCreate your own automated PDFs with Jotform PDF Editor- It's free\\nGeneral Symptoms\\nMark the correct box for each symptom listed below:\\n Allergy\\nNever\\nConvulsions\\n Never\\nDizziness\\nNever\\nFainting\\nPreviously\\nFatigue\\nPreviously\\nHeadache\\nPreviously\\n Nervousness\\nPreviously\\n Neuralgia\\nNever\\nNumbness\\nNever\\nPain in arms/legs/hands\\n Previously\\nHave you missed any work as a result of the accident? If so, how many days?\\n3\\n3\\n! Jotform\\nCreate your own automated PDFs with Jotform PDF Editor- It's free\\nMuscles and Joints\\nMark the correct box for each symptom listed below:\\n Previously\\nBackache\\nFoot troublee\\nPreviously\\nHernia\\nNever\\nPain between shoulders\\n Previously\\nPainful tail bone.\\n Never\\nStiff neck\\n Never\\nSpinal curvature.\\n Never\\nSwollen joints.\\nNever\\nTremors\\nNever\\nTwitching\\n Never\\nWeakness\\nPreviously\\n4\\n! Jotform\\nCreate your own automated PDFs with Jotform PDF Editor- It's free\\nCardiovascular\\nMark the correct box for each symptom listed below:\\nHigh blood pressure\\nPreviously\\nLow blood pressure\\n Never\\nPain over heart\\n Never\\nPoor circulation\\nNever\\nPrevious heart trouble\\n Never\\nStroke\\n Never\\nSwelling of ankles\\n Never\\nVaricose veins\\nNever\\nChest pain\\nNever\\nChronic cough\\n Never\\nDifficulty breathing\\nNever\\nOperations and Procedures\\nVaccination\\n2022\\nAppendectomy\\n2018\\n5\\n! Jotform\\nCreate your own automated PDFs with Jotform PDF Editor- It's free\\nGeneral\\nHave you ever had Chiropractic care before?\\nNo\\nList any broken bones (fractures) or dislocation:\\nleft arm broken\\nHave you ever had any spinal taps/spinal injections?\\nNo\\nDo you suffer from any other condition other than for which you are now consulting us for?\\nno\\n6\\n! Jotform\\nCreate your own automated PDFs with Jotform PDF Editor- It's free\\nConsent\\nI hereby authorize the company to examine and treat my condition as deemed appropriate through the use\\nof Chiropractic Care, and give authority for these procedures to be performed. It is understood and agreed\\nthe amount paid to the Doctor for Xrays is for examination only and the Xray negatives will remain the\\nproperty of this office, being on file where they may be seen at any time while a patient of the office. The\\npatient also agrees that he/she is responsible for all bills incurred at this office. The Doctor will not be held\\nresponsible for any pre-existing medically diagnosed conditions nor for any medical diagnosis\\nSignature\\nDate and Time\\nWednesday, August 21, 2024 10:40\\n7\\n! Jotform\\nCreate your own automated PDFs with Jotform PDF Editor- It's free\"}]"
      ]
     },
     "execution_count": 8,
     "metadata": {},
     "output_type": "execute_result"
    }
   ],
   "source": [
    "extracted_content"
   ]
  },
  {
   "cell_type": "code",
   "execution_count": 9,
   "metadata": {},
   "outputs": [
    {
     "data": {
      "text/plain": [
       "{'id': 'a0129d4fa0dd8f9',\n",
       " 'mime_type': 'text/plain',\n",
       " 'content': b\"21/8/2024\\nPersonal Medical History Template.\\nDescription of problem or complaints:.\\nDHBSFG DIKDAY\\nhead ache\\nBirth Date\\nfever\\n body pain\\n10/8/2014\\nvomiting\\nHave you previously been treated for this.\\ncondition? If yes, by whom?.\\nno\\nAre your present problems due to an injury? if.\\nyes, please select from the list..\\n Personal Injury\\nIf this is an accident has it been reported? If\\nyes, to whom?.\\nAuto Carrier\\nAre you now or have you ever been disabled?.\\nNo\\n! Jotform\\nCreate your own automated PDFs with Jotform PDF Editor- It's free\\nFamily History\\nHabits\\nDiabetes\\nHeart Disease\\nCoffee, # of cups per day.\\n0\\nFather\\n Mother\\nSmoking, # of packs per day.\\nKidney Disease\\n0.5\\nMother\\nAlcohol, # of drinks per week.\\n0\\nQuestions about Job.\\nJob description:\\nsoftwere developer\\nHow many hours do you sit per day?\\n8\\nHow many hours do you stand per day?.\\n2\\nPlease mark if you ever had any of the following:.\\nAppendicitis\\nChicken Pox\\n2\\n! Jotform\\nCreate your own automated PDFs with Jotform PDF Editor- It's free\\nGeneral Symptoms\\nMark the correct box for each symptom listed below:\\n Allergy\\nNever\\nConvulsions\\n Never\\nDizziness\\nNever\\nFainting\\nPreviously\\nFatigue\\nPreviously\\nHeadache\\nPreviously\\n Nervousness\\nPreviously\\n Neuralgia\\nNever\\nNumbness\\nNever\\nPain in arms/legs/hands\\n Previously\\nHave you missed any work as a result of the accident? If so, how many days?\\n3\\n3\\n! Jotform\\nCreate your own automated PDFs with Jotform PDF Editor- It's free\\nMuscles and Joints\\nMark the correct box for each symptom listed below:\\n Previously\\nBackache\\nFoot troublee\\nPreviously\\nHernia\\nNever\\nPain between shoulders\\n Previously\\nPainful tail bone.\\n Never\\nStiff neck\\n Never\\nSpinal curvature.\\n Never\\nSwollen joints.\\nNever\\nTremors\\nNever\\nTwitching\\n Never\\nWeakness\\nPreviously\\n4\\n! Jotform\\nCreate your own automated PDFs with Jotform PDF Editor- It's free\\nCardiovascular\\nMark the correct box for each symptom listed below:\\nHigh blood pressure\\nPreviously\\nLow blood pressure\\n Never\\nPain over heart\\n Never\\nPoor circulation\\nNever\\nPrevious heart trouble\\n Never\\nStroke\\n Never\\nSwelling of ankles\\n Never\\nVaricose veins\\nNever\\nChest pain\\nNever\\nChronic cough\\n Never\\nDifficulty breathing\\nNever\\nOperations and Procedures\\nVaccination\\n2022\\nAppendectomy\\n2018\\n5\\n! Jotform\\nCreate your own automated PDFs with Jotform PDF Editor- It's free\\nGeneral\\nHave you ever had Chiropractic care before?\\nNo\\nList any broken bones (fractures) or dislocation:\\nleft arm broken\\nHave you ever had any spinal taps/spinal injections?\\nNo\\nDo you suffer from any other condition other than for which you are now consulting us for?\\nno\\n6\\n! Jotform\\nCreate your own automated PDFs with Jotform PDF Editor- It's free\\nConsent\\nI hereby authorize the company to examine and treat my condition as deemed appropriate through the use\\nof Chiropractic Care, and give authority for these procedures to be performed. It is understood and agreed\\nthe amount paid to the Doctor for Xrays is for examination only and the Xray negatives will remain the\\nproperty of this office, being on file where they may be seen at any time while a patient of the office. The\\npatient also agrees that he/she is responsible for all bills incurred at this office. The Doctor will not be held\\nresponsible for any pre-existing medically diagnosed conditions nor for any medical diagnosis\\nSignature\\nDate and Time\\nWednesday, August 21, 2024 10:40\\n7\\n! Jotform\\nCreate your own automated PDFs with Jotform PDF Editor- It's free\"}"
      ]
     },
     "execution_count": 9,
     "metadata": {},
     "output_type": "execute_result"
    }
   ],
   "source": [
    "extracted_content[0]"
   ]
  },
  {
   "cell_type": "code",
   "execution_count": 17,
   "metadata": {},
   "outputs": [],
   "source": [
    "schema = {\n",
    "    'properties': {\n",
    "        'invoice_number': {'title': 'Invoice Number', 'type': 'string'},\n",
    "        'date': {'title': 'Date', 'type': 'string'},\n",
    "        'account_number': {'title': 'Account Number', 'type': 'string'},\n",
    "        'owner': {'title': 'Owner', 'type': 'string'},\n",
    "        'address': {'title': 'Address', 'type': 'string'},\n",
    "        'last_month_balance': {'title': 'Last Month Balance', 'type': 'string'},\n",
    "        'current_amount_due': {'title': 'Current Amount Due', 'type': 'string'},\n",
    "        'registration_key': {'title': 'Registration Key', 'type': 'string'},\n",
    "        'due_date': {'title': 'Due Date', 'type': 'string'}\n",
    "    },\n",
    "    'required': ['invoice_number', 'date', 'account_number', 'owner', 'address', 'last_month_balance', 'current_amount_due', 'registration_key', 'due_date'],\n",
    "    'title': 'User',\n",
    "    'type': 'object'\n",
    "}\n",
    "\n",
    "examples = str([\n",
    "    {\n",
    "        \"type\": \"object\",\n",
    "        \"properties\": {\n",
    "            \"employer_name\": {\"type\": \"string\", \"title\": \"Employer Name\"},\n",
    "            \"employee_name\": {\"type\": \"string\", \"title\": \"Employee Name\"},\n",
    "            \"wages\": {\"type\": \"number\", \"title\": \"Wages\"},\n",
    "            \"federal_tax_withheld\": {\"type\": \"number\", \"title\": \"Federal Tax Withheld\"},\n",
    "            \"state_wages\": {\"type\": \"number\", \"title\": \"State Wages\"},\n",
    "            \"state_tax\": {\"type\": \"number\", \"title\": \"State Tax\"}\n",
    "            },\n",
    "        \"required\": [\"employer_name\", \"employee_name\", \"wages\", \"federal_tax_withheld\", \"state_wages\", \"state_tax\"]\n",
    "    },\n",
    "    {\n",
    "        \"type\": \"object\",\n",
    "        \"properties\": {\n",
    "            \"booking_reference\": {\"type\": \"string\", \"title\": \"Booking Reference\"},\n",
    "            \"passenger_name\": {\"type\": \"string\", \"title\": \"Passenger Name\"},\n",
    "            \"flight_number\": {\"type\": \"string\", \"title\": \"Flight Number\"},\n",
    "            \"departure_airport\": {\"type\": \"string\", \"title\": \"Departure Airport\"},\n",
    "            \"arrival_airport\": {\"type\": \"string\", \"title\": \"Arrival Airport\"},\n",
    "            \"departure_time\": {\"type\": \"string\", \"title\": \"Departure Time\"},\n",
    "            \"arrival_time\": {\"type\": \"string\", \"title\": \"Arrival Time\"}\n",
    "            },\n",
    "        \"required\": [\"booking_reference\", \"passenger_name\", \"flight_number\",\"departure_airport\", \"arrival_airport\", \"departure_time\", \"arrival_time\"]\n",
    "    }\n",
    "])\n",
    "\n",
    "\n",
    "\n",
    "extraction_graph_spec = \"\"\"\n",
    "name: 'invoice-learner'\n",
    "extraction_policies:\n",
    "  - extractor: 'tensorlake/paddleocr_extractor'\n",
    "    name: 'pdf-extraction'\n",
    "  - extractor: 'schema_extractor'\n",
    "    name: 'text_to_json'\n",
    "    input_params:\n",
    "      service: 'openai'\n",
    "      example_text: {examples}\n",
    "content_source: 'invoice-learner'\n",
    "\"\"\""
   ]
  },
  {
   "cell_type": "code",
   "execution_count": 18,
   "metadata": {},
   "outputs": [
    {
     "ename": "ApiException",
     "evalue": "status: Aborted, message: \"unable to create extraction policies: Extractor with name schema_extractor not found\", details: [], metadata: MetadataMap { headers: {\"content-type\": \"application/grpc\", \"date\": \"Wed, 21 Aug 2024 12:24:51 GMT\", \"content-length\": \"0\"} }",
     "output_type": "error",
     "traceback": [
      "\u001b[0;31m---------------------------------------------------------------------------\u001b[0m",
      "\u001b[0;31mApiException\u001b[0m                              Traceback (most recent call last)",
      "Cell \u001b[0;32mIn[18], line 5\u001b[0m\n\u001b[1;32m      2\u001b[0m client \u001b[38;5;241m=\u001b[39m IndexifyClient()\n\u001b[1;32m      4\u001b[0m extraction_graph \u001b[38;5;241m=\u001b[39m ExtractionGraph\u001b[38;5;241m.\u001b[39mfrom_yaml(extraction_graph_spec)\n\u001b[0;32m----> 5\u001b[0m \u001b[43mclient\u001b[49m\u001b[38;5;241;43m.\u001b[39;49m\u001b[43mcreate_extraction_graph\u001b[49m\u001b[43m(\u001b[49m\u001b[43mextraction_graph\u001b[49m\u001b[43m)\u001b[49m\n\u001b[1;32m      6\u001b[0m content_id \u001b[38;5;241m=\u001b[39m client\u001b[38;5;241m.\u001b[39mupload_file(\u001b[38;5;124m\"\u001b[39m\u001b[38;5;124minvoice-learner\u001b[39m\u001b[38;5;124m\"\u001b[39m, \u001b[38;5;124m\"\u001b[39m\u001b[38;5;124m/home/quamer23nasim38/faster-patient-onboarding-from-medical-history-using-indexify/data/6000267600123615133.pdf\u001b[39m\u001b[38;5;124m\"\u001b[39m)\n\u001b[1;32m      7\u001b[0m \u001b[38;5;28mprint\u001b[39m(content_id)\n",
      "File \u001b[0;32m~/venv/lib/python3.9/site-packages/indexify/client.py:367\u001b[0m, in \u001b[0;36mIndexifyClient.create_extraction_graph\u001b[0;34m(self, extraction_graph)\u001b[0m\n\u001b[1;32m    365\u001b[0m req[\u001b[38;5;124m\"\u001b[39m\u001b[38;5;124mnamespace\u001b[39m\u001b[38;5;124m\"\u001b[39m] \u001b[38;5;241m=\u001b[39m \u001b[38;5;28mself\u001b[39m\u001b[38;5;241m.\u001b[39mnamespace\n\u001b[1;32m    366\u001b[0m request_body \u001b[38;5;241m=\u001b[39m json\u001b[38;5;241m.\u001b[39mdumps(req, default\u001b[38;5;241m=\u001b[39mjson_set_default)\n\u001b[0;32m--> 367\u001b[0m response \u001b[38;5;241m=\u001b[39m \u001b[38;5;28;43mself\u001b[39;49m\u001b[38;5;241;43m.\u001b[39;49m\u001b[43mpost\u001b[49m\u001b[43m(\u001b[49m\n\u001b[1;32m    368\u001b[0m \u001b[43m    \u001b[49m\u001b[38;5;124;43mf\u001b[39;49m\u001b[38;5;124;43m\"\u001b[39;49m\u001b[38;5;124;43mnamespaces/\u001b[39;49m\u001b[38;5;132;43;01m{\u001b[39;49;00m\u001b[38;5;28;43mself\u001b[39;49m\u001b[38;5;241;43m.\u001b[39;49m\u001b[43mnamespace\u001b[49m\u001b[38;5;132;43;01m}\u001b[39;49;00m\u001b[38;5;124;43m/extraction_graphs\u001b[39;49m\u001b[38;5;124;43m\"\u001b[39;49m\u001b[43m,\u001b[49m\n\u001b[1;32m    369\u001b[0m \u001b[43m    \u001b[49m\u001b[43mdata\u001b[49m\u001b[38;5;241;43m=\u001b[39;49m\u001b[43mrequest_body\u001b[49m\u001b[43m,\u001b[49m\n\u001b[1;32m    370\u001b[0m \u001b[43m    \u001b[49m\u001b[43mheaders\u001b[49m\u001b[38;5;241;43m=\u001b[39;49m\u001b[43m{\u001b[49m\u001b[38;5;124;43m\"\u001b[39;49m\u001b[38;5;124;43mContent-Type\u001b[39;49m\u001b[38;5;124;43m\"\u001b[39;49m\u001b[43m:\u001b[49m\u001b[43m \u001b[49m\u001b[38;5;124;43m\"\u001b[39;49m\u001b[38;5;124;43mapplication/json\u001b[39;49m\u001b[38;5;124;43m\"\u001b[39;49m\u001b[43m}\u001b[49m\u001b[43m,\u001b[49m\n\u001b[1;32m    371\u001b[0m \u001b[43m\u001b[49m\u001b[43m)\u001b[49m\n\u001b[1;32m    372\u001b[0m \u001b[38;5;28;01mreturn\u001b[39;00m\n",
      "File \u001b[0;32m~/venv/lib/python3.9/site-packages/indexify/client.py:207\u001b[0m, in \u001b[0;36mIndexifyClient.post\u001b[0;34m(self, endpoint, **kwargs)\u001b[0m\n\u001b[1;32m    191\u001b[0m \u001b[38;5;28;01mdef\u001b[39;00m \u001b[38;5;21mpost\u001b[39m(\u001b[38;5;28mself\u001b[39m, endpoint: \u001b[38;5;28mstr\u001b[39m, \u001b[38;5;241m*\u001b[39m\u001b[38;5;241m*\u001b[39mkwargs) \u001b[38;5;241m-\u001b[39m\u001b[38;5;241m>\u001b[39m httpx\u001b[38;5;241m.\u001b[39mResponse:\n\u001b[1;32m    192\u001b[0m \u001b[38;5;250m    \u001b[39m\u001b[38;5;124;03m\"\"\"\u001b[39;00m\n\u001b[1;32m    193\u001b[0m \u001b[38;5;124;03m    Make a POST request to the Indexify service.\u001b[39;00m\n\u001b[1;32m    194\u001b[0m \n\u001b[0;32m   (...)\u001b[0m\n\u001b[1;32m    205\u001b[0m \u001b[38;5;124;03m    ```\u001b[39;00m\n\u001b[1;32m    206\u001b[0m \u001b[38;5;124;03m    \"\"\"\u001b[39;00m\n\u001b[0;32m--> 207\u001b[0m     \u001b[38;5;28;01mreturn\u001b[39;00m \u001b[38;5;28;43mself\u001b[39;49m\u001b[38;5;241;43m.\u001b[39;49m\u001b[43m_request\u001b[49m\u001b[43m(\u001b[49m\u001b[38;5;124;43m\"\u001b[39;49m\u001b[38;5;124;43mPOST\u001b[39;49m\u001b[38;5;124;43m\"\u001b[39;49m\u001b[43m,\u001b[49m\u001b[43m \u001b[49m\u001b[43murl\u001b[49m\u001b[38;5;241;43m=\u001b[39;49m\u001b[38;5;124;43mf\u001b[39;49m\u001b[38;5;124;43m\"\u001b[39;49m\u001b[38;5;132;43;01m{\u001b[39;49;00m\u001b[38;5;28;43mself\u001b[39;49m\u001b[38;5;241;43m.\u001b[39;49m\u001b[43m_service_url\u001b[49m\u001b[38;5;132;43;01m}\u001b[39;49;00m\u001b[38;5;124;43m/\u001b[39;49m\u001b[38;5;132;43;01m{\u001b[39;49;00m\u001b[43mendpoint\u001b[49m\u001b[38;5;132;43;01m}\u001b[39;49;00m\u001b[38;5;124;43m\"\u001b[39;49m\u001b[43m,\u001b[49m\u001b[43m \u001b[49m\u001b[38;5;241;43m*\u001b[39;49m\u001b[38;5;241;43m*\u001b[39;49m\u001b[43mkwargs\u001b[49m\u001b[43m)\u001b[49m\n",
      "File \u001b[0;32m~/venv/lib/python3.9/site-packages/indexify/client.py:161\u001b[0m, in \u001b[0;36mIndexifyClient._request\u001b[0;34m(self, method, **kwargs)\u001b[0m\n\u001b[1;32m    157\u001b[0m         \u001b[38;5;28;01mraise\u001b[39;00m ApiException(\n\u001b[1;32m    158\u001b[0m             \u001b[38;5;124m\"\u001b[39m\u001b[38;5;124mstatus code: \u001b[39m\u001b[38;5;124m\"\u001b[39m \u001b[38;5;241m+\u001b[39m status_code \u001b[38;5;241m+\u001b[39m \u001b[38;5;124m\"\u001b[39m\u001b[38;5;124m request args: \u001b[39m\u001b[38;5;124m\"\u001b[39m \u001b[38;5;241m+\u001b[39m \u001b[38;5;28mstr\u001b[39m(kwargs)\n\u001b[1;32m    159\u001b[0m         )\n\u001b[1;32m    160\u001b[0m     \u001b[38;5;28;01mif\u001b[39;00m status_code\u001b[38;5;241m.\u001b[39mstartswith(\u001b[38;5;124m\"\u001b[39m\u001b[38;5;124m5\u001b[39m\u001b[38;5;124m\"\u001b[39m):\n\u001b[0;32m--> 161\u001b[0m         \u001b[38;5;28;01mraise\u001b[39;00m ApiException(response\u001b[38;5;241m.\u001b[39mtext)\n\u001b[1;32m    162\u001b[0m         \u001b[38;5;66;03m# error = Error.from_tonic_error_string(str(response.url), response.text)\u001b[39;00m\n\u001b[1;32m    163\u001b[0m         \u001b[38;5;66;03m# self.__print_additional_error_context(error)\u001b[39;00m\n\u001b[1;32m    164\u001b[0m         \u001b[38;5;66;03m# raise error\u001b[39;00m\n\u001b[1;32m    165\u001b[0m \u001b[38;5;28;01mexcept\u001b[39;00m httpx\u001b[38;5;241m.\u001b[39mConnectError:\n",
      "\u001b[0;31mApiException\u001b[0m: status: Aborted, message: \"unable to create extraction policies: Extractor with name schema_extractor not found\", details: [], metadata: MetadataMap { headers: {\"content-type\": \"application/grpc\", \"date\": \"Wed, 21 Aug 2024 12:24:51 GMT\", \"content-length\": \"0\"} }"
     ]
    }
   ],
   "source": [
    "from indexify import IndexifyClient, ExtractionGraph\n",
    "client = IndexifyClient()\n",
    "\n",
    "extraction_graph = ExtractionGraph.from_yaml(extraction_graph_spec)\n",
    "client.create_extraction_graph(extraction_graph)\n",
    "content_id = client.upload_file(\"invoice-learner\", \"/home/quamer23nasim38/faster-patient-onboarding-from-medical-history-using-indexify/data/6000267600123615133.pdf\")\n",
    "print(content_id)\n",
    "client.wait_for_extraction(content_id)\n",
    "extracted_content = client.get_extracted_content(content_id=content_id, graph_name=\"invoice-learner\", policy_name=\"text_to_json\")\n",
    "print(extracted_content)"
   ]
  },
  {
   "cell_type": "code",
   "execution_count": null,
   "metadata": {},
   "outputs": [],
   "source": []
  },
  {
   "cell_type": "code",
   "execution_count": null,
   "metadata": {},
   "outputs": [],
   "source": []
  },
  {
   "cell_type": "code",
   "execution_count": null,
   "metadata": {},
   "outputs": [],
   "source": []
  },
  {
   "cell_type": "code",
   "execution_count": null,
   "metadata": {},
   "outputs": [],
   "source": []
  },
  {
   "cell_type": "code",
   "execution_count": null,
   "metadata": {},
   "outputs": [],
   "source": []
  }
 ],
 "metadata": {
  "kernelspec": {
   "display_name": "venv",
   "language": "python",
   "name": "python3"
  },
  "language_info": {
   "codemirror_mode": {
    "name": "ipython",
    "version": 3
   },
   "file_extension": ".py",
   "mimetype": "text/x-python",
   "name": "python",
   "nbconvert_exporter": "python",
   "pygments_lexer": "ipython3",
   "version": "3.9.2"
  }
 },
 "nbformat": 4,
 "nbformat_minor": 2
}
